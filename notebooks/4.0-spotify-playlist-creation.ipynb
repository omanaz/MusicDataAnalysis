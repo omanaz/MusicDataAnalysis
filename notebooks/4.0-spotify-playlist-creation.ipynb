{
 "cells": [
  {
   "cell_type": "code",
   "execution_count": 4,
   "metadata": {},
   "outputs": [],
   "source": [
    "#import spotipy\n",
    "import spotipy\n",
    "from spotipy.oauth2 import SpotifyOAuth\n",
    "import pandas as pd\n",
    "import argparse\n",
    "import logging\n",
    "import spotipy\n",
    "import pandas as pd\n",
    "import numpy as np\n",
    "import requests\n",
    "from spotipy import oauth2\n",
    "import re"
   ]
  },
  {
   "cell_type": "code",
   "execution_count": 5,
   "metadata": {},
   "outputs": [],
   "source": [
    "sp = spotipy.Spotify(auth_manager=SpotifyOAuth(client_id=\"dad67ad76b404a1cb4ff094d0146a762\",\n",
    "                                               client_secret=\"3f922e4f5a38455ab1304ec3a2c7e6a3\",\n",
    "                                               redirect_uri=\"http://localhost:3000\",\n",
    "                                               scope=\"user-library-read\"))\n"
   ]
  },
  {
   "cell_type": "markdown",
   "metadata": {},
   "source": [
    "### Create a Playlist"
   ]
  },
  {
   "cell_type": "code",
   "execution_count": 4,
   "metadata": {},
   "outputs": [
    {
     "name": "stderr",
     "output_type": "stream",
     "text": [
      "/Users/victoria/Documents/me/MusicDataAnalysis/.env/lib/python3.5/site-packages/ipykernel_launcher.py:16: DeprecationWarning: You're using 'as_dict = True'.get_access_token will return the token string directly in future versions. Please adjust your code accordingly, or use get_cached_token instead.\n",
      "  app.launch_new_instance()\n"
     ]
    }
   ],
   "source": [
    "SPOTIPY_CLIENT_ID = \"dad67ad76b404a1cb4ff094d0146a762\"\n",
    "SPOTIPY_CLIENT_SECRET = \"3f922e4f5a38455ab1304ec3a2c7e6a3\"\n",
    "SPOTIPY_REDIRECT_URI = \"http://localhost:3000\"\n",
    "SCOPE = ('user-read-recently-played,user-library-read,user-read-currently-playing,playlist-read-private,playlist-modify-private,playlist-modify-public,user-read-email,user-modify-playback-state,user-read-private,user-read-playback-state')\n",
    "sp_oauth = oauth2.SpotifyOAuth( SPOTIPY_CLIENT_ID, SPOTIPY_CLIENT_SECRET,SPOTIPY_REDIRECT_URI,scope=SCOPE )\n",
    "\n",
    "#click \"Accept\" in your browser when the auth window pops up\n",
    "code = sp_oauth.get_auth_response(open_browser=True)\n",
    "token = sp_oauth.get_access_token(code)\n",
    "refresh_token = token['refresh_token']\n",
    "sp = spotipy.Spotify(auth=token['access_token'])\n",
    "username = sp.current_user()['id']"
   ]
  },
  {
   "cell_type": "code",
   "execution_count": 5,
   "metadata": {},
   "outputs": [],
   "source": [
    "#creating your playlist\n",
    "pl_name = 'testPlaylist'\n",
    "result = sp.user_playlist_create(username,\n",
    " name=pl_name)\n",
    "pl_id = result['id']"
   ]
  }
 ],
 "metadata": {
  "kernelspec": {
   "display_name": "Python 3.5.6 ('.env': venv)",
   "language": "python",
   "name": "python3"
  },
  "language_info": {
   "codemirror_mode": {
    "name": "ipython",
    "version": 3
   },
   "file_extension": ".py",
   "mimetype": "text/x-python",
   "name": "python",
   "nbconvert_exporter": "python",
   "pygments_lexer": "ipython3",
   "version": "3.5.6"
  },
  "orig_nbformat": 4,
  "vscode": {
   "interpreter": {
    "hash": "161595a6fb51b254b958196117a8f0bdde888b4af01e26cd34fe632a3aa25dc6"
   }
  }
 },
 "nbformat": 4,
 "nbformat_minor": 2
}
