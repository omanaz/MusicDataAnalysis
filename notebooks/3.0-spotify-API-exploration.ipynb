{
 "cells": [
  {
   "cell_type": "code",
   "execution_count": 3,
   "metadata": {},
   "outputs": [],
   "source": [
    "#import spotipy\n",
    "import spotipy\n",
    "from spotipy.oauth2 import SpotifyOAuth\n",
    "import pandas as pd"
   ]
  },
  {
   "cell_type": "code",
   "execution_count": 4,
   "metadata": {},
   "outputs": [],
   "source": [
    "sp = spotipy.Spotify(auth_manager=SpotifyOAuth(client_id=\"dad67ad76b404a1cb4ff094d0146a762\",\n",
    "                                               client_secret=\"3f922e4f5a38455ab1304ec3a2c7e6a3\",\n",
    "                                               redirect_uri=\"http://localhost:3000\",\n",
    "                                               scope=\"user-library-read\"))\n"
   ]
  },
  {
   "cell_type": "code",
   "execution_count": 5,
   "metadata": {},
   "outputs": [
    {
     "name": "stdout",
     "output_type": "stream",
     "text": [
      "['2769RhOZs0ezRncRW1vryp', '1Y3LN4zO1Edc2EluIoSPJN', '2IOFZdYYkFxEHVz1w34PoL', '1XNAH3h63O1hWFcgyHGbjf', '7Lv78wiIJcKgND9Zi7AIOt', '4A2LfnduSTsE8u0ecYROxE', '6I0KEvFfWszVJiCy5hum4V', '1aEsTgCsv8nOjEgyEoRCpS', '10UTmRvoroe6eZ3ViwkpbN', '79qxwHypONUt3AFq0WPpT9', '2PR4jVXzyjCky2PkONvipq', '6VsvKPJ4xjVNKpI8VVZ3SV', '0hiHNxqKGf3GZgVTIOAiiK', '4ZHGRFGwjnEIXHG2FhcDPv', '0OPIBKjAYBFzNpo1HzjqzQ', '49FwhOuCZ9LWaEpGNal2lQ', '1Mk9ou2m6hsEZJYuNRJFpO', '09fAL7YwPV3YzVmQDzLY8d', '0wavGRldH0AWyu2zvTz8zb', '6vC7mF2CXYW6MVF2voO4FU', '2XkDm5m2vPowecEAAR5gmb', '5odlY52u43F5BjByhxg7wg', '1hCTxutVVYvggAQcUUUZAT', '4XxUka4jIa0girDclOY4iA', '07koEqsKHZTlGVMC9eoEjO', '093KMwH96ZwZRZn2lKoX9Z', '1dGr1c8CrMLDpV6mPbImSI', '5iMUQTIxTGgbVItGIPAWbL', '3JjnGLK8IxkNLvo8Lb3KOM', '6FtIK0IkmG33lKbc1pyAlZ', '7b9oZ5tuGDKRWsL0lgQXqg', '6IPwKM3fUUzlElbvKw2sKl', '0YMe6PHRbeDcN7KJdCG0bW', '6qsacYwaDcrOy4CnTDxWNF', '0lx2cLdOt3piJbcaXIV74f', '4sFhD0PjpNgV8M8yIzt7C2', '1is8gU4RVcN4J8xItxWoOY', '727Z2S2mtNH46CbP9EWPwY', '2z3HKlpENvfz1Am2MNF2pL', '2Zy7SjGT12yzvFohfAKWDq', '496vIKS2INz840xZaKncvR', '523f4oSjrZx83XDtRLnsIw', '2hgk8iKN9UdoM4ILlJ9F5N', '2odYUJ9LhwDVVPxXL3NxuB', '6rG1DdPCTzGibgHliYJ4ws', '2gA74HvN6NKFrhgzpd5oNE', '0qvzXomUDJVaUboy2wMfiS', '3jjujdWJ72nww5eGnfs2E7', '2eAvDnpXP5W0cVtiI0PUxV', '3fl4zil6HJ0N1FL3YIRwdC', '00EsQxsJv6vy7hEQN3jZWG', '1Wdj4wRDYS7aT4CoPS0mAH', '6cx5CvFhqN19efStehJqoW', '3T03rPwlL8NVk1yIaxeD8U', '2GMnysJaMa483o0gIOinzB', '6Xa2rrTpSLkpx887Y115mO', '2McTSCNNzxgDtAqiuibhPI', '5O2P9iiztwhomNh8xkR9lJ', '0qBug5X3DaJv2zgXtp55wn', '6A6il0xlgnUK3LCxCcHZRA', '0NlGoUyOJSuSHmngoibVAs', '6N1K5OVVCopBjGViHs2IvP', '24FprytnP9KMqH01aPR2N5', '2kJwzbxV2ppxnQoYw4GLBZ', '4bhe0XXBRo4EAPKgy4M2xz', '7FEUENNMyyXkHcjLN6VSLA', '6BP8sg44smNB3pbD4QAOzi', '3XV5r1cMB2AlD2ir0v6mfm', '77QHKxBniAzCLen3aKgKgw', '6eA8pANu9ryDcoTTe5myKk', '3AJwUDP919kvQ9QcozQPxg', '1HbcclMpw0q2WDWpdGCKdS', '2BAsBkA10fTRZhF5iMs0Dh', '6yIHGmQLJxWAUZ1ZkENemN', '6di48z6eF5dBYVpB0tZV5i', '7wRijQK8vRmGLK0RYW7Vr1', '3hJmzuKkiCtLDTANdB52Hm', '78Sw5GDo6AlGwTwanjXbGh', '6epGSSmdGkjcBmLDKXLbMl', '0Tel1fmuCxEFV6wBLXsEdk', '5tmxPmmXvgJPU7bIukFX8p', '4oa14QBfWRDfJy2agySy0L', '1RMJOxR6GRPsBHL8qeC2ux', '3hygkyvNx087psWHR1w1ab', '1ZIKpMTRPqhwAoVXWY3tXI', '5YVmHTAsdWnoanWXB7AwZX', '2aQXnLW2uQwZeRDUR23VTU', '7JzOkrDkvwIkjdkt6wQIN2', '15xWRPHQMeqgdkGzInx3PY', '0vzSAyinyA619ZbrOaAi04', '2kSb3wYSOV996xA2NSmpck', '3kZC0ZmFWrEHdUCmUqlvgZ', '4O5GWwr8fvgcJyYiEBEX0q', '0eBryM7ePQH3Klt3jz8xZd', '5ug4vqGZ3eisGhY1IsziNX', '3NRsALILJmLX78BLoVjgE5', '3BLWGYOcy1svvsBByeFxLh', '2URXzpbSUwOjltvpgtzXua', '2DtYtc9nMEdyjtJsT1ARqt', '4YD5AHtL7CnzYp8DwfYSTo']\n"
     ]
    }
   ],
   "source": [
    "# Warm & Fuzzy Playlist from Spotify\n",
    "playlist_data = sp.user_playlist_tracks(\"spotify\", \"37i9dQZF1DX5IDTimEWoTd\")\n",
    "#print(playlist_data.keys())\n",
    "num_tracks = len(playlist_data['items'])\n",
    "tracks = []\n",
    "\n",
    "#collect tracks ID \n",
    "for i in range (num_tracks):\n",
    "    #toxic_id = toxic_id.replace(\"spotify:track:\", \"\")\n",
    "    song_id = playlist_data['items'][i]['track']['uri']\n",
    "    song_id = song_id.replace(\"spotify:track:\", \"\")\n",
    "    tracks.append(song_id)\n",
    "\n",
    "print(tracks)"
   ]
  },
  {
   "cell_type": "code",
   "execution_count": 6,
   "metadata": {},
   "outputs": [],
   "source": [
    "def analyze_playlist(creator, playlist_id):\n",
    "    \n",
    "    # Create empty dataframe\n",
    "    playlist_features_list = [\"artist\",\"album\",\"track_name\",  \"track_id\",\"danceability\",\"energy\",\"key\",\"loudness\",\"mode\", \"speechiness\",\"instrumentalness\",\"liveness\",\"valence\",\"tempo\", \"duration_ms\",\"time_signature\"]\n",
    "    \n",
    "    playlist_df = pd.DataFrame(columns = playlist_features_list)\n",
    "    \n",
    "    # Loop through every track in the playlist, extract features and append the features to the playlist df\n",
    "    \n",
    "    playlist = sp.user_playlist_tracks(creator, playlist_id)[\"items\"]\n",
    "    for track in playlist:\n",
    "        # Create empty dict\n",
    "        playlist_features = {}\n",
    "        # Get metadata\n",
    "        playlist_features[\"artist\"] = track[\"track\"][\"album\"][\"artists\"][0][\"name\"]\n",
    "        playlist_features[\"album\"] = track[\"track\"][\"album\"][\"name\"]\n",
    "        playlist_features[\"track_name\"] = track[\"track\"][\"name\"]\n",
    "        playlist_features[\"track_id\"] = track[\"track\"][\"id\"]\n",
    "        \n",
    "        # Get audio features\n",
    "        audio_features = sp.audio_features(playlist_features[\"track_id\"])[0]\n",
    "        for feature in playlist_features_list[4:]:\n",
    "            playlist_features[feature] = audio_features[feature]\n",
    "        \n",
    "        # Concat the dfs\n",
    "        track_df = pd.DataFrame(playlist_features, index = [0])\n",
    "        playlist_df = pd.concat([playlist_df, track_df], ignore_index = True)\n",
    "        \n",
    "    return playlist_df"
   ]
  },
  {
   "cell_type": "code",
   "execution_count": 7,
   "metadata": {},
   "outputs": [
    {
     "name": "stderr",
     "output_type": "stream",
     "text": [
      "/Users/victoria/Documents/me/MusicDataAnalysis/.env/lib/python3.5/site-packages/ipykernel_launcher.py:27: FutureWarning: Sorting because non-concatenation axis is not aligned. A future version\n",
      "of pandas will change to not sort by default.\n",
      "\n",
      "To accept the future behavior, pass 'sort=False'.\n",
      "\n",
      "To retain the current behavior and silence the warning, pass 'sort=True'.\n",
      "\n"
     ]
    }
   ],
   "source": [
    "analyzed_playlist_data = analyze_playlist(\"spotify\", \"37i9dQZF1DX5IDTimEWoTd\")"
   ]
  },
  {
   "cell_type": "code",
   "execution_count": 8,
   "metadata": {},
   "outputs": [
    {
     "data": {
      "text/plain": [
       "0.52921"
      ]
     },
     "execution_count": 8,
     "metadata": {},
     "output_type": "execute_result"
    }
   ],
   "source": [
    "analyzed_playlist_data['danceability'].mean()"
   ]
  },
  {
   "cell_type": "code",
   "execution_count": 9,
   "metadata": {},
   "outputs": [
    {
     "name": "stdout",
     "output_type": "stream",
     "text": [
      "danceability       0.018122\n",
      "energy             0.024067\n",
      "liveness           0.005745\n",
      "loudness          10.447606\n",
      "speechiness        0.000687\n",
      "tempo           1201.278744\n",
      "valence            0.020365\n",
      "dtype: float64\n"
     ]
    }
   ],
   "source": [
    "# Compute the average values of each feature\n",
    "averages = analyzed_playlist_data.mean()\n",
    "\n",
    "# Calculate the variance of each feature\n",
    "variances = analyzed_playlist_data.var()\n",
    "\n",
    "print(variances)"
   ]
  },
  {
   "cell_type": "code",
   "execution_count": null,
   "metadata": {},
   "outputs": [],
   "source": []
  }
 ],
 "metadata": {
  "kernelspec": {
   "display_name": "Python 3.5.6 ('.env': venv)",
   "language": "python",
   "name": "python3"
  },
  "language_info": {
   "codemirror_mode": {
    "name": "ipython",
    "version": 3
   },
   "file_extension": ".py",
   "mimetype": "text/x-python",
   "name": "python",
   "nbconvert_exporter": "python",
   "pygments_lexer": "ipython3",
   "version": "3.5.6"
  },
  "orig_nbformat": 4,
  "vscode": {
   "interpreter": {
    "hash": "161595a6fb51b254b958196117a8f0bdde888b4af01e26cd34fe632a3aa25dc6"
   }
  }
 },
 "nbformat": 4,
 "nbformat_minor": 2
}
