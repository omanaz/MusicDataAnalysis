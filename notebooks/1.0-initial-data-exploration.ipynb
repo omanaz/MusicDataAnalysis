{
 "cells": [
  {
   "cell_type": "markdown",
   "metadata": {},
   "source": [
    "### Data Exploration\n",
    "Our goal in this notebook is to begin understand how to acess the data from the spotify .json files and then see how I can compare and manipulate them in comparison to the tcc_ceds_music.csv data"
   ]
  },
  {
   "cell_type": "code",
   "execution_count": 8,
   "metadata": {},
   "outputs": [],
   "source": [
    "# importing all necessary packages\n",
    "import json"
   ]
  },
  {
   "cell_type": "code",
   "execution_count": 13,
   "metadata": {},
   "outputs": [],
   "source": [
    "p1 = open('/Users/victoria/Documents/me/MusicDataAnalysis/data/raw/data/mpd.slice.0-999.json')\n",
    "data = json.load(p1)"
   ]
  },
  {
   "cell_type": "code",
   "execution_count": 20,
   "metadata": {},
   "outputs": [],
   "source": [
    "# iterate through the tracks in the playlists\n",
    "playlists = data['playlists']\n",
    "\n",
    "#for song in playlists[0]['tracks']:\n",
    "    #print(song)"
   ]
  },
  {
   "cell_type": "code",
   "execution_count": 25,
   "metadata": {},
   "outputs": [
    {
     "name": "stdout",
     "output_type": "stream",
     "text": [
      "{'pos': 1, 'artist_name': 'Britney Spears', 'track_uri': 'spotify:track:6I9VzXrHxO9rA9A5euc8Ak', 'artist_uri': 'spotify:artist:26dSoYclwsYLMAKD3tpOr4', 'track_name': 'Toxic', 'album_uri': 'spotify:album:0z7pVBGOD7HCIB7S8eLkLI', 'duration_ms': 198800, 'album_name': 'In The Zone'}\n"
     ]
    }
   ],
   "source": [
    "#Let's see if we can find a specific song in the other dataset\n",
    "toxic_data = playlists[0]['tracks'][1]\n",
    "print(toxic_data)"
   ]
  },
  {
   "cell_type": "code",
   "execution_count": null,
   "metadata": {},
   "outputs": [],
   "source": []
  }
 ],
 "metadata": {
  "kernelspec": {
   "display_name": "Python 3.7.11 ('cse217a')",
   "language": "python",
   "name": "python3"
  },
  "language_info": {
   "codemirror_mode": {
    "name": "ipython",
    "version": 3
   },
   "file_extension": ".py",
   "mimetype": "text/x-python",
   "name": "python",
   "nbconvert_exporter": "python",
   "pygments_lexer": "ipython3",
   "version": "3.7.11"
  },
  "orig_nbformat": 4,
  "vscode": {
   "interpreter": {
    "hash": "e27b9380ff38cc7a9bd155aef51d2581199facd5a3adc549696474b8eacd75fb"
   }
  }
 },
 "nbformat": 4,
 "nbformat_minor": 2
}
